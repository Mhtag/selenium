{
 "cells": [
  {
   "cell_type": "code",
   "execution_count": 17,
   "id": "d2fb188a",
   "metadata": {},
   "outputs": [],
   "source": [
    "import os\n",
    "from selenium import webdriver\n",
    "from selenium.webdriver.common.by import By\n",
    "from selenium.webdriver.support.ui import WebDriverWait\n",
    "from selenium.webdriver.support import expected_conditions as EC"
   ]
  },
  {
   "cell_type": "code",
   "execution_count": 12,
   "id": "ec1134b8",
   "metadata": {},
   "outputs": [],
   "source": [
    "chromedriver = \"C:\\SeleniumDrivers\\chromedriver\"\n",
    "driver = webdriver.Chrome(chromedriver)"
   ]
  },
  {
   "cell_type": "code",
   "execution_count": 6,
   "id": "6307f6ae",
   "metadata": {},
   "outputs": [],
   "source": [
    "driver.get('https://www.seleniumeasy.com/test/jquery-download-progress-bar-demo.html')"
   ]
  },
  {
   "cell_type": "code",
   "execution_count": 15,
   "id": "bf3cf091",
   "metadata": {},
   "outputs": [
    {
     "name": "stdout",
     "output_type": "stream",
     "text": [
      "Starting download...\n"
     ]
    }
   ],
   "source": [
    "driver.get('https://www.seleniumeasy.com/test/jquery-download-progress-bar-demo.html')\n",
    "driver.implicitly_wait(3)\n",
    "my_element = driver.find_element_by_id('downloadButton')\n",
    "my_element.click()\n",
    "progress_element = driver.find_element_by_class_name('progress-label')\n",
    "print(f'{progress_element.text}')\n",
    "\n",
    "WebDriverWait(driver, 30).until(\n",
    "    EC.text_to_be_present_in_element(\n",
    "        (By.CLASS_NAME, 'progress-label'),   # Element filtration\n",
    "        'Complete!'   # The expected text\n",
    "    )\n",
    ")"
   ]
  },
  {
   "cell_type": "code",
   "execution_count": 18,
   "id": "1dc9f3dc",
   "metadata": {},
   "outputs": [
    {
     "data": {
      "text/plain": [
       "True"
      ]
     },
     "execution_count": 18,
     "metadata": {},
     "output_type": "execute_result"
    }
   ],
   "source": [
    "driver.get('https://www.seleniumeasy.com/test/jquery-download-progress-bar-demo.html')\n",
    "driver.implicitly_wait(3)\n",
    "my_element = driver.find_element_by_id('downloadButton')\n",
    "my_element.click()\n",
    "\n",
    "WebDriverWait(driver, 30).until(\n",
    "    EC.text_to_be_present_in_element(\n",
    "        (By.CLASS_NAME, 'progress-label'),   # Element filtration\n",
    "        'Complete!'   # The expected text\n",
    "    )\n",
    ")"
   ]
  },
  {
   "cell_type": "code",
   "execution_count": null,
   "id": "4a5e1bec",
   "metadata": {},
   "outputs": [],
   "source": []
  }
 ],
 "metadata": {
  "kernelspec": {
   "display_name": "Python 3",
   "language": "python",
   "name": "python3"
  },
  "language_info": {
   "codemirror_mode": {
    "name": "ipython",
    "version": 3
   },
   "file_extension": ".py",
   "mimetype": "text/x-python",
   "name": "python",
   "nbconvert_exporter": "python",
   "pygments_lexer": "ipython3",
   "version": "3.8.8"
  }
 },
 "nbformat": 4,
 "nbformat_minor": 5
}
