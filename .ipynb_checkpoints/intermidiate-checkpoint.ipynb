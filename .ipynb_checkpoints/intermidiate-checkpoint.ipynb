{
 "cells": [
  {
   "cell_type": "code",
   "execution_count": 8,
   "id": "a183e034",
   "metadata": {},
   "outputs": [],
   "source": [
    "import os\n",
    "from selenium import webdriver\n",
    "from selenium.webdriver.common.keys import Keys"
   ]
  },
  {
   "cell_type": "code",
   "execution_count": 2,
   "id": "fc0c2504",
   "metadata": {},
   "outputs": [],
   "source": [
    "chromedriver = \"C:\\SeleniumDrivers\\chromedriver\"\n",
    "driver = webdriver.Chrome(chromedriver)"
   ]
  },
  {
   "cell_type": "code",
   "execution_count": 11,
   "id": "0e64b382",
   "metadata": {},
   "outputs": [
    {
     "name": "stdout",
     "output_type": "stream",
     "text": [
      "no element with this class name, skipping...\n"
     ]
    }
   ],
   "source": [
    "driver.get('https://www.seleniumeasy.com/test/basic-first-form-demo.html')\n",
    "\n",
    "driver.implicitly_wait(5)\n",
    "try:\n",
    "    no_button = driver.find_element_by_class_name('at-cm-no-button')\n",
    "    no_button.click()\n",
    "except:\n",
    "    print('no element with this class name, skipping...')\n",
    "sum1 = driver.find_element_by_id('sum1')\n",
    "sum2 = driver.find_element_by_id('sum2')\n",
    "\n",
    "sum1.send_keys(Keys.NUMPAD1, Keys.NUMPAD5)\n",
    "sum2.send_keys(50)\n",
    "\n",
    "btn = driver.find_element_by_css_selector('button[onclick=\"return total()\"]')\n",
    "btn.click()"
   ]
  },
  {
   "cell_type": "code",
   "execution_count": null,
   "id": "d2c280cc",
   "metadata": {},
   "outputs": [],
   "source": []
  }
 ],
 "metadata": {
  "kernelspec": {
   "display_name": "Python 3",
   "language": "python",
   "name": "python3"
  },
  "language_info": {
   "codemirror_mode": {
    "name": "ipython",
    "version": 3
   },
   "file_extension": ".py",
   "mimetype": "text/x-python",
   "name": "python",
   "nbconvert_exporter": "python",
   "pygments_lexer": "ipython3",
   "version": "3.8.8"
  }
 },
 "nbformat": 4,
 "nbformat_minor": 5
}
