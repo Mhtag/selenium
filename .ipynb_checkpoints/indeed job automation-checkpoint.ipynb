{
 "cells": [
  {
   "cell_type": "code",
   "execution_count": 58,
   "id": "0c3b334c",
   "metadata": {},
   "outputs": [],
   "source": [
    "from selenium import webdriver\n",
    "from selenium.webdriver.common.keys import Keys\n",
    "import time\n",
    "from selenium.webdriver.support.ui import Select\n",
    "\n"
   ]
  },
  {
   "cell_type": "code",
   "execution_count": 19,
   "id": "7cf23277",
   "metadata": {},
   "outputs": [],
   "source": [
    "chromedriver = \"C:\\SeleniumDrivers\\chromedriver\"\n",
    "driver = webdriver.Chrome(chromedriver)"
   ]
  },
  {
   "cell_type": "code",
   "execution_count": 20,
   "id": "97a93fab",
   "metadata": {},
   "outputs": [],
   "source": [
    "url = 'https://in.indeed.com/?r=us'"
   ]
  },
  {
   "cell_type": "code",
   "execution_count": 21,
   "id": "1a20fac2",
   "metadata": {},
   "outputs": [],
   "source": [
    "driver.get(url)"
   ]
  },
  {
   "cell_type": "code",
   "execution_count": 22,
   "id": "28d60f09",
   "metadata": {},
   "outputs": [
    {
     "name": "stdout",
     "output_type": "stream",
     "text": [
      "https://in.indeed.com/?r=us\n"
     ]
    }
   ],
   "source": [
    "print(driver.current_url)  # returns  the current url"
   ]
  },
  {
   "cell_type": "code",
   "execution_count": 23,
   "id": "0b24681b",
   "metadata": {},
   "outputs": [],
   "source": [
    "#print(driver.page_source)   # returns the html code gor the page"
   ]
  },
  {
   "cell_type": "code",
   "execution_count": 43,
   "id": "4b46c448",
   "metadata": {},
   "outputs": [],
   "source": [
    "sign_in = driver.find_element_by_css_selector('.gnav-header-f5d6gy  a').get_property('href')\n",
    "driver.get(sign_in)"
   ]
  },
  {
   "cell_type": "code",
   "execution_count": 44,
   "id": "b6155065",
   "metadata": {},
   "outputs": [],
   "source": [
    "email_ele = driver.find_element_by_name('__email')\n"
   ]
  },
  {
   "cell_type": "code",
   "execution_count": null,
   "id": "b2c54f75",
   "metadata": {},
   "outputs": [],
   "source": []
  },
  {
   "cell_type": "code",
   "execution_count": 45,
   "id": "72281142",
   "metadata": {},
   "outputs": [
    {
     "data": {
      "text/plain": [
       "True"
      ]
     },
     "execution_count": 45,
     "metadata": {},
     "output_type": "execute_result"
    }
   ],
   "source": [
    "email_ele.is_displayed()"
   ]
  },
  {
   "cell_type": "code",
   "execution_count": 46,
   "id": "7d694900",
   "metadata": {},
   "outputs": [],
   "source": [
    "password_ele = driver.find_element_by_name('__password')"
   ]
  },
  {
   "cell_type": "code",
   "execution_count": 47,
   "id": "652b8f83",
   "metadata": {},
   "outputs": [
    {
     "data": {
      "text/plain": [
       "True"
      ]
     },
     "execution_count": 47,
     "metadata": {},
     "output_type": "execute_result"
    }
   ],
   "source": [
    "password_ele.is_displayed()"
   ]
  },
  {
   "cell_type": "code",
   "execution_count": 48,
   "id": "31107abc",
   "metadata": {},
   "outputs": [],
   "source": [
    "email_ele.send_keys('mohit.agarwal44@gmail.com')\n",
    "password_ele.send_keys('s838vhdbp2')\n",
    "\n",
    "driver.find_element_by_id('login-submit-button').click()"
   ]
  },
  {
   "cell_type": "code",
   "execution_count": 50,
   "id": "7655a62a",
   "metadata": {},
   "outputs": [],
   "source": [
    "search_ele =driver.find_element_by_name('q')"
   ]
  },
  {
   "cell_type": "code",
   "execution_count": 53,
   "id": "3d89cf2e",
   "metadata": {},
   "outputs": [
    {
     "name": "stdout",
     "output_type": "stream",
     "text": [
      "True\n"
     ]
    },
    {
     "data": {
      "text/plain": [
       "True"
      ]
     },
     "execution_count": 53,
     "metadata": {},
     "output_type": "execute_result"
    }
   ],
   "source": [
    "print(search_ele.is_displayed())\n",
    "search_ele.is_enabled()"
   ]
  },
  {
   "cell_type": "code",
   "execution_count": 54,
   "id": "b436a0ee",
   "metadata": {},
   "outputs": [],
   "source": [
    "search_ele.send_keys('Python')"
   ]
  },
  {
   "cell_type": "code",
   "execution_count": 56,
   "id": "8c419d89",
   "metadata": {},
   "outputs": [],
   "source": [
    "find_button = driver.find_element_by_css_selector('button[type=submit]')\n",
    "find_button.click()"
   ]
  },
  {
   "cell_type": "code",
   "execution_count": 66,
   "id": "49f3d18d",
   "metadata": {},
   "outputs": [],
   "source": [
    "jobtype_ele = driver.find_element_by_id('filter-jobtype')"
   ]
  },
  {
   "cell_type": "code",
   "execution_count": 67,
   "id": "c0adea9e",
   "metadata": {},
   "outputs": [],
   "source": [
    "jobtype_ele.click()"
   ]
  },
  {
   "cell_type": "code",
   "execution_count": 69,
   "id": "a730f002",
   "metadata": {},
   "outputs": [],
   "source": [
    "# finding every element in our webpage.\n",
    "\n",
    "link_obj = driver.find_elements_by_css_selector('.sponTapItem')"
   ]
  },
  {
   "cell_type": "code",
   "execution_count": 71,
   "id": "ad5ec44d",
   "metadata": {},
   "outputs": [
    {
     "data": {
      "text/plain": [
       "'https://in.indeed.com/company/caddprimer/jobs/Python-Programmer-Machine-Learning-Project-Developer-Iot-190e17c1ac24eea3?fccid=022835815dd8aa4c&vjs=3'"
      ]
     },
     "execution_count": 71,
     "metadata": {},
     "output_type": "execute_result"
    }
   ],
   "source": [
    "link_obj[0].get_property('href')"
   ]
  },
  {
   "cell_type": "code",
   "execution_count": null,
   "id": "06142020",
   "metadata": {},
   "outputs": [],
   "source": [
    "# adding each link to a list \n",
    "job_link = []\n",
    "\n",
    "for el in link_obj:\n",
    "    job_link.append(el.get_property('href'))\n",
    "    \n",
    "    \n",
    "    \n",
    "    "
   ]
  }
 ],
 "metadata": {
  "kernelspec": {
   "display_name": "Python 3",
   "language": "python",
   "name": "python3"
  },
  "language_info": {
   "codemirror_mode": {
    "name": "ipython",
    "version": 3
   },
   "file_extension": ".py",
   "mimetype": "text/x-python",
   "name": "python",
   "nbconvert_exporter": "python",
   "pygments_lexer": "ipython3",
   "version": "3.8.8"
  }
 },
 "nbformat": 4,
 "nbformat_minor": 5
}
