{
 "cells": [
  {
   "cell_type": "code",
   "execution_count": 1,
   "id": "8352eb15",
   "metadata": {},
   "outputs": [],
   "source": [
    "from selenium import webdriver\n",
    "from selenium.webdriver.common.keys import Keys\n",
    "import time"
   ]
  },
  {
   "cell_type": "code",
   "execution_count": 2,
   "id": "1c7e578d",
   "metadata": {},
   "outputs": [],
   "source": [
    "chromedriver = \"C:\\SeleniumDrivers\\chromedriver\"\n",
    "driver = webdriver.Chrome(chromedriver)"
   ]
  },
  {
   "cell_type": "code",
   "execution_count": 3,
   "id": "e8518bf0",
   "metadata": {},
   "outputs": [],
   "source": [
    "url = 'http://demo.guru99.com/test/newtours/index.php'"
   ]
  },
  {
   "cell_type": "code",
   "execution_count": 4,
   "id": "3267ab89",
   "metadata": {},
   "outputs": [],
   "source": [
    "driver.get(url)"
   ]
  },
  {
   "cell_type": "code",
   "execution_count": 5,
   "id": "e555c834",
   "metadata": {},
   "outputs": [
    {
     "name": "stdout",
     "output_type": "stream",
     "text": [
      "Job Search India | Indeed\n",
      "Welcome: Mercury Tours\n",
      "Job Search India | Indeed\n"
     ]
    }
   ],
   "source": [
    "time.sleep(5)\n",
    "\n",
    "driver.get('https://in.indeed.com/?r=us')\n",
    "\n",
    "print(driver.title)\n",
    "\n",
    "driver.back()\n",
    "time.sleep(5)\n",
    "\n",
    "print(driver.title)\n",
    "\n",
    "driver.forward()\n",
    "time.sleep(5)\n",
    "\n",
    "print(driver.title)"
   ]
  },
  {
   "cell_type": "code",
   "execution_count": null,
   "id": "4d2b37d8",
   "metadata": {},
   "outputs": [],
   "source": []
  }
 ],
 "metadata": {
  "kernelspec": {
   "display_name": "Python 3",
   "language": "python",
   "name": "python3"
  },
  "language_info": {
   "codemirror_mode": {
    "name": "ipython",
    "version": 3
   },
   "file_extension": ".py",
   "mimetype": "text/x-python",
   "name": "python",
   "nbconvert_exporter": "python",
   "pygments_lexer": "ipython3",
   "version": "3.8.8"
  }
 },
 "nbformat": 4,
 "nbformat_minor": 5
}
