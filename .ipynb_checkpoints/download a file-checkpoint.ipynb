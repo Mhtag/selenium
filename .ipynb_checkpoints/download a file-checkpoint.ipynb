{
 "cells": [
  {
   "cell_type": "code",
   "execution_count": 3,
   "id": "f4d38449",
   "metadata": {},
   "outputs": [],
   "source": [
    "from selenium import webdriver\n",
    "from selenium.webdriver.common.keys import Keys\n",
    "from selenium.webdriver.common.by import By\n",
    "from selenium.webdriver.support.ui import Select\n",
    "from selenium.webdriver import ActionChains\n",
    "chromedriver = \"C:\\SeleniumDrivers\\chromedriver\"\n",
    "driver = webdriver.Chrome(chromedriver)\n",
    "driver.maximize_window()"
   ]
  },
  {
   "cell_type": "code",
   "execution_count": 4,
   "id": "b65c9609",
   "metadata": {},
   "outputs": [],
   "source": [
    "url = 'http://demo.automationtesting.in/FileDownload.html'"
   ]
  },
  {
   "cell_type": "code",
   "execution_count": 5,
   "id": "af6b6394",
   "metadata": {},
   "outputs": [],
   "source": [
    "driver.get(url)"
   ]
  },
  {
   "cell_type": "code",
   "execution_count": 6,
   "id": "137703d5",
   "metadata": {},
   "outputs": [],
   "source": [
    "# download a text file\n",
    "\n",
    "driver.find_element_by_id('textbox').send_keys('download text file')         # send text ti text box\n",
    "\n",
    "driver.find_element_by_id('createTxt').click()          # generate the file button\n",
    "\n",
    "driver.find_element_by_id('link-to-download').click()          # download the link"
   ]
  },
  {
   "cell_type": "code",
   "execution_count": 7,
   "id": "64ddfe41",
   "metadata": {},
   "outputs": [],
   "source": [
    "# download the pdf file\n",
    "\n",
    "driver.find_element_by_id('pdfbox').send_keys('download pdf file')\n",
    "\n",
    "driver.find_element_by_id('createPdf').click()\n",
    "\n",
    "driver.find_element_by_id('pdf-link-to-download').click()"
   ]
  },
  {
   "cell_type": "code",
   "execution_count": 10,
   "id": "297415aa",
   "metadata": {},
   "outputs": [],
   "source": [
    "from selenium import webdriver\n",
    "from selenium.webdriver.common.keys import Keys\n",
    "from selenium.webdriver.common.by import By\n",
    "from selenium.webdriver.support.ui import Select\n",
    "from selenium.webdriver import ActionChains\n",
    "chromedriver = \"C:\\SeleniumDrivers\\chromedriver\"\n",
    "driver = webdriver.Chrome(chromedriver)\n",
    "driver.maximize_window()\n",
    "url = 'http://demo.automationtesting.in/FileDownload.html'\n",
    "driver.get(url)\n",
    "# download a text file\n",
    "\n",
    "driver.find_element_by_id('textbox').send_keys('download text file')         # send text ti text box\n",
    "\n",
    "driver.find_element_by_id('createTxt').click()          # generate the file button\n",
    "\n",
    "driver.find_element_by_id('link-to-download').click()          # download the link\n",
    "\n",
    "# download the pdf file\n",
    "\n",
    "driver.find_element_by_id('pdfbox').send_keys('download pdf file')\n",
    "\n",
    "driver.find_element_by_id('createPdf').click()\n",
    "\n",
    "driver.find_element_by_id('pdf-link-to-download').click()\n",
    "\n"
   ]
  },
  {
   "cell_type": "code",
   "execution_count": null,
   "id": "c8c4d736",
   "metadata": {},
   "outputs": [],
   "source": []
  }
 ],
 "metadata": {
  "kernelspec": {
   "display_name": "Python 3",
   "language": "python",
   "name": "python3"
  },
  "language_info": {
   "codemirror_mode": {
    "name": "ipython",
    "version": 3
   },
   "file_extension": ".py",
   "mimetype": "text/x-python",
   "name": "python",
   "nbconvert_exporter": "python",
   "pygments_lexer": "ipython3",
   "version": "3.8.8"
  }
 },
 "nbformat": 4,
 "nbformat_minor": 5
}
