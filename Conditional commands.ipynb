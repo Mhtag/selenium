{
 "cells": [
  {
   "cell_type": "markdown",
   "id": "47c056d0",
   "metadata": {},
   "source": [
    "## Conditional commands\n",
    "when we are automating certain pages we need o verify certain elements are verified or not, or some checkbox has been clicked or not, \n",
    "\n",
    "used for any web elements\n",
    "* is_displayed() : \n",
    "* is _enabled() :\n",
    "\n",
    "used for check boxes and radio commands\n",
    "+ is_selected() : used for check "
   ]
  },
  {
   "cell_type": "code",
   "execution_count": 15,
   "id": "0c118620",
   "metadata": {},
   "outputs": [],
   "source": [
    "from selenium import webdriver\n",
    "from selenium.webdriver.common.keys import Keys\n",
    "import time\n"
   ]
  },
  {
   "cell_type": "code",
   "execution_count": 16,
   "id": "de7f3bab",
   "metadata": {},
   "outputs": [],
   "source": [
    "chromedriver = \"C:\\SeleniumDrivers\\chromedriver\"\n",
    "driver = webdriver.Chrome(chromedriver)"
   ]
  },
  {
   "cell_type": "code",
   "execution_count": 17,
   "id": "28623167",
   "metadata": {},
   "outputs": [],
   "source": [
    "url = 'http://demo.guru99.com/test/newtours/index.php'"
   ]
  },
  {
   "cell_type": "code",
   "execution_count": 18,
   "id": "db952a6b",
   "metadata": {},
   "outputs": [],
   "source": [
    "driver.get(url)"
   ]
  },
  {
   "cell_type": "code",
   "execution_count": 19,
   "id": "2e320b81",
   "metadata": {},
   "outputs": [],
   "source": [
    "user_ele = driver.find_element_by_name('userName')"
   ]
  },
  {
   "cell_type": "code",
   "execution_count": 20,
   "id": "023e871c",
   "metadata": {},
   "outputs": [
    {
     "data": {
      "text/plain": [
       "True"
      ]
     },
     "execution_count": 20,
     "metadata": {},
     "output_type": "execute_result"
    }
   ],
   "source": [
    "user_ele.is_displayed()   # return true or false based on the element status"
   ]
  },
  {
   "cell_type": "code",
   "execution_count": 10,
   "id": "a44ddff0",
   "metadata": {},
   "outputs": [
    {
     "data": {
      "text/plain": [
       "True"
      ]
     },
     "execution_count": 10,
     "metadata": {},
     "output_type": "execute_result"
    }
   ],
   "source": [
    "user_ele.is_enabled()      "
   ]
  },
  {
   "cell_type": "code",
   "execution_count": 21,
   "id": "628eb95f",
   "metadata": {},
   "outputs": [],
   "source": [
    "password_ele = driver.find_element_by_name('password')"
   ]
  },
  {
   "cell_type": "code",
   "execution_count": 22,
   "id": "98c6abcf",
   "metadata": {},
   "outputs": [
    {
     "name": "stdout",
     "output_type": "stream",
     "text": [
      "True\n",
      "True\n"
     ]
    }
   ],
   "source": [
    "print(password_ele.is_displayed())\n",
    "print(password_ele.is_enabled())"
   ]
  },
  {
   "cell_type": "code",
   "execution_count": 23,
   "id": "e5d89b18",
   "metadata": {},
   "outputs": [],
   "source": [
    "user_ele = driver.find_element_by_name('userName')\n",
    "user_ele.send_keys('mercury')\n",
    "password_ele = driver.find_element_by_name('password')\n",
    "password_ele.send_keys('mercury')\n",
    "\n",
    "driver.find_element_by_name('submit').click()\n",
    "\n"
   ]
  },
  {
   "cell_type": "code",
   "execution_count": 24,
   "id": "de34c7e2",
   "metadata": {},
   "outputs": [
    {
     "name": "stdout",
     "output_type": "stream",
     "text": [
      "staus of round trip radio button True\n",
      "status of oneway trip button False\n"
     ]
    }
   ],
   "source": [
    "roundtrip_radio = driver.find_element_by_css_selector(\"input[value=roundtrip]\")\n",
    "print('staus of round trip radio button', roundtrip_radio.is_selected())                    # print status of radio button\n",
    "\n",
    "onewaytrip_radio = driver.find_element_by_css_selector(\"input[value=oneway]\")\n",
    "print('status of oneway trip button', onewaytrip_radio.is_selected())"
   ]
  },
  {
   "cell_type": "code",
   "execution_count": null,
   "id": "87416575",
   "metadata": {},
   "outputs": [],
   "source": []
  }
 ],
 "metadata": {
  "kernelspec": {
   "display_name": "Python 3",
   "language": "python",
   "name": "python3"
  },
  "language_info": {
   "codemirror_mode": {
    "name": "ipython",
    "version": 3
   },
   "file_extension": ".py",
   "mimetype": "text/x-python",
   "name": "python",
   "nbconvert_exporter": "python",
   "pygments_lexer": "ipython3",
   "version": "3.8.8"
  }
 },
 "nbformat": 4,
 "nbformat_minor": 5
}
