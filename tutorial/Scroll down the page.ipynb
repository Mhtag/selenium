{
 "cells": [
  {
   "cell_type": "markdown",
   "id": "f6d5ed67",
   "metadata": {},
   "source": [
    "* Scroll down the page by pixel\n",
    "\n",
    "driver.execute_script('window.scrollBy(0,500)',\"\")\n",
    "* Scroll down the page till element found\n",
    "\n",
    "driver.execute_script('arguments[0].scrollIntoView();',Element)\n",
    "* scroll to the end of page\n",
    "\n",
    "driver.execute_script(\"window.scrollBy(0,document.body.scrollHeight)\")"
   ]
  },
  {
   "cell_type": "code",
   "execution_count": 1,
   "id": "55fb6c30",
   "metadata": {},
   "outputs": [],
   "source": [
    "from selenium import webdriver\n"
   ]
  },
  {
   "cell_type": "code",
   "execution_count": 2,
   "id": "06fd29ce",
   "metadata": {},
   "outputs": [],
   "source": [
    "chromedriver = \"C:\\SeleniumDrivers\\chromedriver\"\n",
    "driver = webdriver.Chrome(chromedriver)"
   ]
  },
  {
   "cell_type": "code",
   "execution_count": 3,
   "id": "effa874a",
   "metadata": {},
   "outputs": [],
   "source": [
    "url = 'https://www.imdb.com/search/title/?groups=top_250&sort=user_rating,desc'"
   ]
  },
  {
   "cell_type": "code",
   "execution_count": 4,
   "id": "310be492",
   "metadata": {},
   "outputs": [],
   "source": [
    "driver.get(url)"
   ]
  },
  {
   "cell_type": "code",
   "execution_count": 8,
   "id": "aa8a7638",
   "metadata": {},
   "outputs": [],
   "source": [
    "driver.execute_script('window.scrollBy(0,2000)',\"\")"
   ]
  },
  {
   "cell_type": "code",
   "execution_count": 12,
   "id": "89f3ee3f",
   "metadata": {},
   "outputs": [],
   "source": [
    "# scroll down the page till the element is visible\n",
    "Element = driver.find_element_by_xpath(\"//*[@id='main']/div/div[3]/div/div[33]/div[3]/h3/a\")\n",
    "\n",
    "driver.execute_script(\"arguments[0].scrollIntoView();\",Element)"
   ]
  },
  {
   "cell_type": "code",
   "execution_count": null,
   "id": "16f86303",
   "metadata": {},
   "outputs": [],
   "source": []
  }
 ],
 "metadata": {
  "kernelspec": {
   "display_name": "Python 3",
   "language": "python",
   "name": "python3"
  },
  "language_info": {
   "codemirror_mode": {
    "name": "ipython",
    "version": 3
   },
   "file_extension": ".py",
   "mimetype": "text/x-python",
   "name": "python",
   "nbconvert_exporter": "python",
   "pygments_lexer": "ipython3",
   "version": "3.8.8"
  }
 },
 "nbformat": 4,
 "nbformat_minor": 5
}
