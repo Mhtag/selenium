{
 "cells": [
  {
   "cell_type": "code",
   "execution_count": 2,
   "id": "fcbad7c5",
   "metadata": {},
   "outputs": [],
   "source": [
    "from selenium import webdriver\n",
    "from selenium.webdriver.common.keys import Keys\n",
    "from selenium.webdriver.common.by import By\n",
    "from selenium.webdriver.support.ui import Select\n",
    "from selenium.webdriver import ActionChains\n",
    "chromedriver = \"C:\\SeleniumDrivers\\chromedriver\"\n",
    "driver = webdriver.Chrome(chromedriver)"
   ]
  },
  {
   "cell_type": "code",
   "execution_count": 3,
   "id": "507c7117",
   "metadata": {},
   "outputs": [],
   "source": [
    "url = 'http://testautomationpractice.blogspot.com/'"
   ]
  },
  {
   "cell_type": "code",
   "execution_count": 4,
   "id": "e8334925",
   "metadata": {},
   "outputs": [],
   "source": [
    "driver.get(url)"
   ]
  },
  {
   "cell_type": "code",
   "execution_count": 5,
   "id": "08860327",
   "metadata": {},
   "outputs": [],
   "source": [
    "driver.maximize_window()"
   ]
  },
  {
   "cell_type": "markdown",
   "id": "0ccd3917",
   "metadata": {},
   "source": [
    "### we need to indentify the source and target element"
   ]
  },
  {
   "cell_type": "code",
   "execution_count": 8,
   "id": "75f9cdc0",
   "metadata": {},
   "outputs": [],
   "source": [
    "import time\n"
   ]
  },
  {
   "cell_type": "code",
   "execution_count": 9,
   "id": "a4227ba3",
   "metadata": {},
   "outputs": [],
   "source": [
    "# souce element\n",
    "\n",
    "src_el = driver.find_element_by_xpath('//*[@id=\"draggable\"]')\n",
    "\n",
    "# target element\n",
    "\n",
    "trgt_el = driver.find_element_by_xpath('//*[@id=\"droppable\"]')\n",
    "\n",
    "actions = ActionChains(driver)\n",
    "\n",
    "# drag and drop\n",
    "\n",
    "time.sleep(5)\n",
    "actions.drag_and_drop(src_el,trgt_el).perform()"
   ]
  },
  {
   "cell_type": "code",
   "execution_count": null,
   "id": "306c8a9a",
   "metadata": {},
   "outputs": [],
   "source": []
  },
  {
   "cell_type": "code",
   "execution_count": null,
   "id": "bf245a55",
   "metadata": {},
   "outputs": [],
   "source": []
  }
 ],
 "metadata": {
  "kernelspec": {
   "display_name": "Python 3",
   "language": "python",
   "name": "python3"
  },
  "language_info": {
   "codemirror_mode": {
    "name": "ipython",
    "version": 3
   },
   "file_extension": ".py",
   "mimetype": "text/x-python",
   "name": "python",
   "nbconvert_exporter": "python",
   "pygments_lexer": "ipython3",
   "version": "3.8.8"
  }
 },
 "nbformat": 4,
 "nbformat_minor": 5
}
