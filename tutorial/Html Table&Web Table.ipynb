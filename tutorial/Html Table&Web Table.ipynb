{
 "cells": [
  {
   "cell_type": "code",
   "execution_count": 1,
   "id": "939d4e62",
   "metadata": {},
   "outputs": [],
   "source": [
    "from selenium import webdriver\n"
   ]
  },
  {
   "cell_type": "code",
   "execution_count": 2,
   "id": "4d508160",
   "metadata": {},
   "outputs": [],
   "source": [
    "chromedriver = \"C:\\SeleniumDrivers\\chromedriver\"\n",
    "driver = webdriver.Chrome(chromedriver)"
   ]
  },
  {
   "cell_type": "code",
   "execution_count": 3,
   "id": "2349a781",
   "metadata": {},
   "outputs": [],
   "source": [
    "url = 'http://testautomationpractice.blogspot.com/'"
   ]
  },
  {
   "cell_type": "code",
   "execution_count": 4,
   "id": "2a84ed44",
   "metadata": {},
   "outputs": [],
   "source": [
    "driver.get(url)"
   ]
  },
  {
   "cell_type": "code",
   "execution_count": 5,
   "id": "e1836961",
   "metadata": {},
   "outputs": [
    {
     "data": {
      "text/plain": [
       "[<selenium.webdriver.remote.webelement.WebElement (session=\"65da5155e6ab84fd43bce1d1b6d5c56f\", element=\"f6aa2091-1f61-4147-84d9-cda8c0585604\")>,\n",
       " <selenium.webdriver.remote.webelement.WebElement (session=\"65da5155e6ab84fd43bce1d1b6d5c56f\", element=\"3849d10a-86ab-4c01-8122-1760dda17ada\")>,\n",
       " <selenium.webdriver.remote.webelement.WebElement (session=\"65da5155e6ab84fd43bce1d1b6d5c56f\", element=\"ad320dbf-6059-4958-a784-0a43351a1464\")>,\n",
       " <selenium.webdriver.remote.webelement.WebElement (session=\"65da5155e6ab84fd43bce1d1b6d5c56f\", element=\"02e1bb38-0f68-415f-9ae2-088f333fd89b\")>,\n",
       " <selenium.webdriver.remote.webelement.WebElement (session=\"65da5155e6ab84fd43bce1d1b6d5c56f\", element=\"f70241ec-518e-46b3-b5db-b94693bc05bb\")>,\n",
       " <selenium.webdriver.remote.webelement.WebElement (session=\"65da5155e6ab84fd43bce1d1b6d5c56f\", element=\"8cdfed2b-96bb-4135-b72a-45118a92b75f\")>,\n",
       " <selenium.webdriver.remote.webelement.WebElement (session=\"65da5155e6ab84fd43bce1d1b6d5c56f\", element=\"43fc73ad-95ae-4249-9bb1-1ef4e20bc257\")>]"
      ]
     },
     "execution_count": 5,
     "metadata": {},
     "output_type": "execute_result"
    }
   ],
   "source": [
    "driver.find_elements_by_xpath('//*[@id=\"HTML1\"]/div[1]/table/tbody/tr')"
   ]
  },
  {
   "cell_type": "code",
   "execution_count": 12,
   "id": "392cbfa5",
   "metadata": {},
   "outputs": [],
   "source": [
    "rows = len(driver.find_elements_by_xpath('//*[@id=\"HTML1\"]/div[1]/table/tbody/tr'))    "
   ]
  },
  {
   "cell_type": "code",
   "execution_count": 10,
   "id": "3806d144",
   "metadata": {},
   "outputs": [
    {
     "data": {
      "text/plain": [
       "[<selenium.webdriver.remote.webelement.WebElement (session=\"65da5155e6ab84fd43bce1d1b6d5c56f\", element=\"9dcd5bac-936f-4004-a162-7d1fb3345e54\")>,\n",
       " <selenium.webdriver.remote.webelement.WebElement (session=\"65da5155e6ab84fd43bce1d1b6d5c56f\", element=\"c966117f-cb4f-4079-92e2-6c6be0d72428\")>,\n",
       " <selenium.webdriver.remote.webelement.WebElement (session=\"65da5155e6ab84fd43bce1d1b6d5c56f\", element=\"5b52bceb-5b39-44aa-87ef-91cfb2afedba\")>,\n",
       " <selenium.webdriver.remote.webelement.WebElement (session=\"65da5155e6ab84fd43bce1d1b6d5c56f\", element=\"e52336ec-28ac-4702-86a9-f646fe23020a\")>]"
      ]
     },
     "execution_count": 10,
     "metadata": {},
     "output_type": "execute_result"
    }
   ],
   "source": [
    "driver.find_elements_by_xpath('//*[@id=\"HTML1\"]/div[1]/table/tbody/tr[1]/th')"
   ]
  },
  {
   "cell_type": "code",
   "execution_count": 13,
   "id": "e83f9473",
   "metadata": {},
   "outputs": [],
   "source": [
    "columns = len(driver.find_elements_by_xpath('//*[@id=\"HTML1\"]/div[1]/table/tbody/tr[1]/th'))"
   ]
  },
  {
   "cell_type": "code",
   "execution_count": 16,
   "id": "513d3a19",
   "metadata": {},
   "outputs": [
    {
     "name": "stdout",
     "output_type": "stream",
     "text": [
      "Learn Selenium\n",
      "Amit\n",
      "Selenium\n",
      "300\n",
      "Learn Java\n",
      "Mukesh\n",
      "Java\n",
      "500\n",
      "Learn JS\n",
      "Animesh\n",
      "Javascript\n",
      "300\n",
      "Master In Selenium\n",
      "Mukesh\n",
      "Selenium\n",
      "3000\n",
      "Master In Java\n",
      "Amod\n",
      "JAVA\n",
      "2000\n",
      "Master In JS\n",
      "Amit\n",
      "Javascript\n",
      "1000\n"
     ]
    }
   ],
   "source": [
    "for row in range(2, rows+1):\n",
    "    for col in range(1,columns+1):\n",
    "        value = driver.find_element_by_xpath('//*[@id=\"HTML1\"]/div[1]/table/tbody/tr['+str(row)+']/td['+str(col)+']').text\n",
    "        print(value)\n",
    "    "
   ]
  },
  {
   "cell_type": "code",
   "execution_count": 18,
   "id": "de614a7a",
   "metadata": {},
   "outputs": [
    {
     "name": "stdout",
     "output_type": "stream",
     "text": [
      "Learn Selenium       Amit       Selenium       300       \n",
      "Learn Java       Mukesh       Java       500       \n",
      "Learn JS       Animesh       Javascript       300       \n",
      "Master In Selenium       Mukesh       Selenium       3000       \n",
      "Master In Java       Amod       JAVA       2000       \n",
      "Master In JS       Amit       Javascript       1000       \n"
     ]
    }
   ],
   "source": [
    "for row in range(2, rows+1):\n",
    "    for col in range(1,columns+1):\n",
    "        value = driver.find_element_by_xpath('//*[@id=\"HTML1\"]/div[1]/table/tbody/tr['+str(row)+']/td['+str(col)+']').text\n",
    "        print(value,end='       ')\n",
    "    print()"
   ]
  },
  {
   "cell_type": "code",
   "execution_count": null,
   "id": "35f74a0e",
   "metadata": {},
   "outputs": [],
   "source": []
  }
 ],
 "metadata": {
  "kernelspec": {
   "display_name": "Python 3",
   "language": "python",
   "name": "python3"
  },
  "language_info": {
   "codemirror_mode": {
    "name": "ipython",
    "version": 3
   },
   "file_extension": ".py",
   "mimetype": "text/x-python",
   "name": "python",
   "nbconvert_exporter": "python",
   "pygments_lexer": "ipython3",
   "version": "3.8.8"
  }
 },
 "nbformat": 4,
 "nbformat_minor": 5
}
