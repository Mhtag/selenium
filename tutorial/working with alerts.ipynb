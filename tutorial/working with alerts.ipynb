{
 "cells": [
  {
   "cell_type": "markdown",
   "id": "9a797cca",
   "metadata": {},
   "source": [
    "* switch_to_alert().accept()\n",
    "* switch_to_alert().dismiss())"
   ]
  },
  {
   "cell_type": "code",
   "execution_count": 1,
   "id": "c1310dac",
   "metadata": {},
   "outputs": [],
   "source": [
    "from selenium import webdriver\n",
    "import time"
   ]
  },
  {
   "cell_type": "code",
   "execution_count": 2,
   "id": "ce193194",
   "metadata": {},
   "outputs": [],
   "source": [
    "chromedriver = \"C:\\SeleniumDrivers\\chromedriver\"\n",
    "driver = webdriver.Chrome(chromedriver)"
   ]
  },
  {
   "cell_type": "code",
   "execution_count": 3,
   "id": "24f6851e",
   "metadata": {},
   "outputs": [],
   "source": [
    "url = 'http://testautomationpractice.blogspot.com/'"
   ]
  },
  {
   "cell_type": "code",
   "execution_count": 4,
   "id": "4bee5191",
   "metadata": {},
   "outputs": [],
   "source": [
    "driver.get(url)"
   ]
  },
  {
   "cell_type": "code",
   "execution_count": 8,
   "id": "8e026fba",
   "metadata": {},
   "outputs": [
    {
     "name": "stderr",
     "output_type": "stream",
     "text": [
      "<ipython-input-8-25f3ed9ba61c>:3: DeprecationWarning: use driver.switch_to.alert instead\n",
      "  driver.switch_to_alert().accept()            # closses alert window using OK button.\n"
     ]
    }
   ],
   "source": [
    "driver.find_element_by_xpath('//*[@id=\"HTML9\"]/div[1]/button').click()\n",
    "\n",
    "driver.switch_to_alert().accept()            # closses alert window using OK button."
   ]
  },
  {
   "cell_type": "code",
   "execution_count": 12,
   "id": "5b9a3e15",
   "metadata": {},
   "outputs": [],
   "source": [
    "driver.find_element_by_xpath('//*[@id=\"HTML9\"]/div[1]/button').click()"
   ]
  },
  {
   "cell_type": "code",
   "execution_count": 13,
   "id": "8a9ee41a",
   "metadata": {},
   "outputs": [
    {
     "name": "stderr",
     "output_type": "stream",
     "text": [
      "<ipython-input-13-b474ae664167>:1: DeprecationWarning: use driver.switch_to.alert instead\n",
      "  driver.switch_to_alert().dismiss()                   # closses the alert window by using the close buttton\n"
     ]
    }
   ],
   "source": [
    "driver.switch_to_alert().dismiss()                   # closses the alert window by using the close buttton"
   ]
  },
  {
   "cell_type": "code",
   "execution_count": null,
   "id": "5c84732a",
   "metadata": {},
   "outputs": [],
   "source": []
  }
 ],
 "metadata": {
  "kernelspec": {
   "display_name": "Python 3",
   "language": "python",
   "name": "python3"
  },
  "language_info": {
   "codemirror_mode": {
    "name": "ipython",
    "version": 3
   },
   "file_extension": ".py",
   "mimetype": "text/x-python",
   "name": "python",
   "nbconvert_exporter": "python",
   "pygments_lexer": "ipython3",
   "version": "3.8.8"
  }
 },
 "nbformat": 4,
 "nbformat_minor": 5
}
