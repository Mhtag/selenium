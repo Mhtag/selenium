{
 "cells": [
  {
   "cell_type": "markdown",
   "id": "a3ea4be0",
   "metadata": {},
   "source": [
    "* radio button is selected or not by using isSelected() method"
   ]
  },
  {
   "cell_type": "code",
   "execution_count": 12,
   "id": "56419c93",
   "metadata": {},
   "outputs": [],
   "source": [
    "from selenium import webdriver\n",
    "from selenium.webdriver.common.keys import Keys\n",
    "from selenium.webdriver.common.by import By"
   ]
  },
  {
   "cell_type": "code",
   "execution_count": null,
   "id": "d387d32d",
   "metadata": {},
   "outputs": [],
   "source": []
  },
  {
   "cell_type": "code",
   "execution_count": 13,
   "id": "d0597bda",
   "metadata": {},
   "outputs": [],
   "source": [
    "chromedriver = \"C:\\SeleniumDrivers\\chromedriver\"\n",
    "driver = webdriver.Chrome(chromedriver)"
   ]
  },
  {
   "cell_type": "code",
   "execution_count": 14,
   "id": "7c78bc30",
   "metadata": {},
   "outputs": [],
   "source": [
    "url = 'https://fs2.formsite.com/meherpavan/form2/index.html?1537702596407'"
   ]
  },
  {
   "cell_type": "code",
   "execution_count": 15,
   "id": "b323cf41",
   "metadata": {},
   "outputs": [],
   "source": [
    "driver.get(url)"
   ]
  },
  {
   "cell_type": "code",
   "execution_count": 9,
   "id": "6d59ecba",
   "metadata": {},
   "outputs": [
    {
     "name": "stdout",
     "output_type": "stream",
     "text": [
      "True\n"
     ]
    }
   ],
   "source": [
    "# working with the radio buttons\n",
    "\n",
    "status = driver.find_element_by_id('RESULT_RadioButton-7_0').is_selected()\n",
    "print(status)"
   ]
  },
  {
   "cell_type": "code",
   "execution_count": 17,
   "id": "908cbfb3",
   "metadata": {},
   "outputs": [],
   "source": [
    "# select the radio button\n",
    "\n",
    "driver.find_element_by_xpath('//*[@id=\"q26\"]/table/tbody/tr[1]/td/label').click()"
   ]
  },
  {
   "cell_type": "code",
   "execution_count": 18,
   "id": "b55721b7",
   "metadata": {},
   "outputs": [],
   "source": [
    "# working with check boxes\n",
    "\n",
    "driver.find_element_by_xpath('//*[@id=\"q15\"]/table/tbody/tr[7]/td/label').click()"
   ]
  },
  {
   "cell_type": "code",
   "execution_count": null,
   "id": "6735b0b6",
   "metadata": {},
   "outputs": [],
   "source": []
  }
 ],
 "metadata": {
  "kernelspec": {
   "display_name": "Python 3",
   "language": "python",
   "name": "python3"
  },
  "language_info": {
   "codemirror_mode": {
    "name": "ipython",
    "version": 3
   },
   "file_extension": ".py",
   "mimetype": "text/x-python",
   "name": "python",
   "nbconvert_exporter": "python",
   "pygments_lexer": "ipython3",
   "version": "3.8.8"
  }
 },
 "nbformat": 4,
 "nbformat_minor": 5
}
