{
 "cells": [
  {
   "cell_type": "code",
   "execution_count": 6,
   "id": "816aee28",
   "metadata": {},
   "outputs": [],
   "source": [
    "from selenium import webdriver\n",
    "from selenium.webdriver.common.keys import Keys\n",
    "from selenium.webdriver.common.by import By"
   ]
  },
  {
   "cell_type": "code",
   "execution_count": 2,
   "id": "9c3ba060",
   "metadata": {},
   "outputs": [],
   "source": [
    "chromedriver = \"C:\\SeleniumDrivers\\chromedriver\"\n",
    "driver = webdriver.Chrome(chromedriver)"
   ]
  },
  {
   "cell_type": "code",
   "execution_count": null,
   "id": "67974fbd",
   "metadata": {},
   "outputs": [],
   "source": []
  },
  {
   "cell_type": "code",
   "execution_count": 3,
   "id": "29c5d9b8",
   "metadata": {},
   "outputs": [],
   "source": [
    "url = 'https://fs2.formsite.com/meherpavan/form2/index.html?1537702596407'"
   ]
  },
  {
   "cell_type": "code",
   "execution_count": 4,
   "id": "6a8aad6c",
   "metadata": {},
   "outputs": [],
   "source": [
    "driver.get(url)"
   ]
  },
  {
   "cell_type": "markdown",
   "id": "e7477d5b",
   "metadata": {},
   "source": [
    "### how to find how many input boxes are their in the webpage."
   ]
  },
  {
   "cell_type": "code",
   "execution_count": 8,
   "id": "db01aa06",
   "metadata": {},
   "outputs": [],
   "source": [
    "\n",
    "\n",
    "driver.find_elements(By.CLASS_NAME, 'text_field')\n",
    "input_boxes = driver.find_elements(By.CLASS_NAME, 'text_field')"
   ]
  },
  {
   "cell_type": "code",
   "execution_count": 9,
   "id": "41321f1d",
   "metadata": {},
   "outputs": [
    {
     "data": {
      "text/plain": [
       "6"
      ]
     },
     "execution_count": 9,
     "metadata": {},
     "output_type": "execute_result"
    }
   ],
   "source": [
    "len(input_boxes)"
   ]
  },
  {
   "cell_type": "markdown",
   "id": "1eecb0a4",
   "metadata": {},
   "source": [
    "### how to provide the value to text box"
   ]
  },
  {
   "cell_type": "code",
   "execution_count": 10,
   "id": "67d66ff3",
   "metadata": {},
   "outputs": [],
   "source": [
    "\n",
    "\n",
    "driver.find_element(By.ID,'RESULT_TextField-1').send_keys('Mohit')\n",
    "driver.find_element(By.ID,'RESULT_TextField-2').send_keys('Agarwal')\n",
    "\n",
    "\n"
   ]
  },
  {
   "cell_type": "code",
   "execution_count": 11,
   "id": "699f01ed",
   "metadata": {},
   "outputs": [],
   "source": [
    "driver.find_element_by_id('RESULT_TextField-3').send_keys('888888')"
   ]
  },
  {
   "cell_type": "code",
   "execution_count": null,
   "id": "40bce997",
   "metadata": {},
   "outputs": [],
   "source": []
  }
 ],
 "metadata": {
  "kernelspec": {
   "display_name": "Python 3",
   "language": "python",
   "name": "python3"
  },
  "language_info": {
   "codemirror_mode": {
    "name": "ipython",
    "version": 3
   },
   "file_extension": ".py",
   "mimetype": "text/x-python",
   "name": "python",
   "nbconvert_exporter": "python",
   "pygments_lexer": "ipython3",
   "version": "3.8.8"
  }
 },
 "nbformat": 4,
 "nbformat_minor": 5
}
