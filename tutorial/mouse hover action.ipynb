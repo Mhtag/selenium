{
 "cells": [
  {
   "cell_type": "code",
   "execution_count": 5,
   "id": "00e21a97",
   "metadata": {},
   "outputs": [],
   "source": [
    "from selenium import webdriver\n",
    "from selenium.webdriver.common.keys import Keys\n",
    "from selenium.webdriver.common.by import By\n",
    "from selenium.webdriver.support.ui import Select\n",
    "from selenium.webdriver import ActionChains\n",
    "chromedriver = \"C:\\SeleniumDrivers\\chromedriver\"\n",
    "driver = webdriver.Chrome(chromedriver)"
   ]
  },
  {
   "cell_type": "code",
   "execution_count": 10,
   "id": "e33f1af9",
   "metadata": {},
   "outputs": [],
   "source": [
    "url = 'https://opensource-demo.orangehrmlive.com/index.php/dashboard'"
   ]
  },
  {
   "cell_type": "code",
   "execution_count": 11,
   "id": "f05bccb2",
   "metadata": {},
   "outputs": [],
   "source": [
    "driver.get(url)"
   ]
  },
  {
   "cell_type": "code",
   "execution_count": 12,
   "id": "5698c496",
   "metadata": {},
   "outputs": [],
   "source": [
    "driver.find_element_by_name('txtUsername').send_keys('admin')"
   ]
  },
  {
   "cell_type": "code",
   "execution_count": 13,
   "id": "7dd47fc3",
   "metadata": {},
   "outputs": [],
   "source": [
    "driver.find_element_by_name('txtPassword').send_keys('admin123')"
   ]
  },
  {
   "cell_type": "code",
   "execution_count": 15,
   "id": "b9219217",
   "metadata": {},
   "outputs": [],
   "source": [
    "driver.find_element_by_id('btnLogin').click()"
   ]
  },
  {
   "cell_type": "code",
   "execution_count": 18,
   "id": "cd1149ae",
   "metadata": {},
   "outputs": [],
   "source": [
    "admin = driver.find_element_by_xpath('//*[@id=\"menu_admin_viewAdminModule\"]/b')\n",
    "user_mngnt = driver.find_element_by_xpath('//*[@id=\"menu_admin_UserManagement\"]')\n",
    "users = driver.find_element_by_xpath('//*[@id=\"menu_admin_viewSystemUsers\"]')\n",
    "\n"
   ]
  },
  {
   "cell_type": "code",
   "execution_count": 19,
   "id": "4122a938",
   "metadata": {},
   "outputs": [],
   "source": [
    "actions = ActionChains(driver)\n",
    "\n",
    "actions.move_to_element(admin).move_to_element(user_mngnt).move_to_element(users).click().perform()"
   ]
  },
  {
   "cell_type": "code",
   "execution_count": 21,
   "id": "4090b0b3",
   "metadata": {},
   "outputs": [],
   "source": [
    "driver.get(url)\n",
    "driver.find_element_by_name('txtUsername').send_keys('admin')\n",
    "driver.find_element_by_name('txtPassword').send_keys('admin123')\n",
    "driver.find_element_by_id('btnLogin').click()\n",
    "admin = driver.find_element_by_xpath('//*[@id=\"menu_admin_viewAdminModule\"]/b')\n",
    "user_mngnt = driver.find_element_by_xpath('//*[@id=\"menu_admin_UserManagement\"]')\n",
    "users = driver.find_element_by_xpath('//*[@id=\"menu_admin_viewSystemUsers\"]')\n",
    "actions = ActionChains(driver)\n",
    "\n",
    "actions.move_to_element(admin).move_to_element(user_mngnt).move_to_element(users).click().perform()\n"
   ]
  },
  {
   "cell_type": "code",
   "execution_count": null,
   "id": "1c3bc59c",
   "metadata": {},
   "outputs": [],
   "source": []
  }
 ],
 "metadata": {
  "kernelspec": {
   "display_name": "Python 3",
   "language": "python",
   "name": "python3"
  },
  "language_info": {
   "codemirror_mode": {
    "name": "ipython",
    "version": 3
   },
   "file_extension": ".py",
   "mimetype": "text/x-python",
   "name": "python",
   "nbconvert_exporter": "python",
   "pygments_lexer": "ipython3",
   "version": "3.8.8"
  }
 },
 "nbformat": 4,
 "nbformat_minor": 5
}
