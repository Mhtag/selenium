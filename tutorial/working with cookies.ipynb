{
 "cells": [
  {
   "cell_type": "code",
   "execution_count": 1,
   "id": "086df33b",
   "metadata": {},
   "outputs": [],
   "source": [
    "from selenium import webdriver\n",
    "from selenium.webdriver.common.keys import Keys\n",
    "from selenium.webdriver.common.by import By\n",
    "from selenium.webdriver.support.ui import Select\n",
    "from selenium.webdriver import ActionChains\n",
    "chromedriver = \"C:\\SeleniumDrivers\\chromedriver\"\n",
    "driver = webdriver.Chrome(chromedriver)\n",
    "driver.maximize_window()"
   ]
  },
  {
   "cell_type": "code",
   "execution_count": 2,
   "id": "06220bda",
   "metadata": {},
   "outputs": [],
   "source": [
    "url = 'https://www.amazon.in/'"
   ]
  },
  {
   "cell_type": "code",
   "execution_count": 3,
   "id": "75601f3b",
   "metadata": {},
   "outputs": [],
   "source": [
    "driver.get(url)"
   ]
  },
  {
   "cell_type": "markdown",
   "id": "7696d6c0",
   "metadata": {},
   "source": [
    "* cookie is a piece of information from website ans saved by your wevb browser\n",
    "* a way of remembering users and their interaction with the site by storing information inthe cookie file as key value pairs\n",
    "* it stores the login informatin like user name, email and password\n"
   ]
  },
  {
   "cell_type": "markdown",
   "id": "cc82c332",
   "metadata": {},
   "source": [
    "## Operation on cookies\n",
    "* capture all cookies from browser\n",
    "* count number of cookies\n",
    "* read cookie oairs\n",
    "* Adding new cookie\n",
    "* Deleting specific cookie by using name of cookie\n",
    "* Deleting all the cookies"
   ]
  },
  {
   "cell_type": "markdown",
   "id": "d4fa3d79",
   "metadata": {},
   "source": [
    "### capture all the cookies created by browser\n",
    "\n",
    "driver.get_cookies()"
   ]
  },
  {
   "cell_type": "code",
   "execution_count": 8,
   "id": "818831f2",
   "metadata": {},
   "outputs": [],
   "source": [
    "cookies = driver.get_cookies()"
   ]
  },
  {
   "cell_type": "code",
   "execution_count": 9,
   "id": "55f69f89",
   "metadata": {
    "scrolled": true
   },
   "outputs": [
    {
     "data": {
      "text/plain": [
       "[{'domain': 'www.amazon.in',\n",
       "  'httpOnly': False,\n",
       "  'name': 'Mycookie',\n",
       "  'path': '/',\n",
       "  'secure': True,\n",
       "  'value': '12345'},\n",
       " {'domain': '.amazon.in',\n",
       "  'expiry': 1663504165,\n",
       "  'httpOnly': False,\n",
       "  'name': 'session-id-time',\n",
       "  'path': '/',\n",
       "  'secure': False,\n",
       "  'value': '2082758401l'},\n",
       " {'domain': 'www.amazon.in',\n",
       "  'expiry': 1662208164,\n",
       "  'httpOnly': False,\n",
       "  'name': 'csm-hit',\n",
       "  'path': '/',\n",
       "  'secure': False,\n",
       "  'value': 'tb:YBCYMX0SQDT69V5TPKMC+s-YBCYMX0SQDT69V5TPKMC|1631968164959&t:1631968164959&adb:adblk_no'},\n",
       " {'domain': '.amazon.in',\n",
       "  'expiry': 1663504165,\n",
       "  'httpOnly': False,\n",
       "  'name': 'session-token',\n",
       "  'path': '/',\n",
       "  'secure': True,\n",
       "  'value': '5V2Dp60ApoibLrVGzPU7ulrbhTyHZMsorR28Dl2wIC2bzG/F5uuRxx+sipc21rm2vqVce0yQVFwD99cgkunQqX/WtV4uwClPZbXVOxZqslsm0jL3+PhwuwfUmjdSFtV582LzQgb0G+El7kQzNGYdw4PQD3C/O3kMtmBNhfZNFTzjtwehr+dPYUKW1uhZZGDXQgbCSXnbR9lBl6dT1hhu9PFWqx/wFx2KvLwwX//vI1/NXYnrgAY7QnLe+V9D9kvA'},\n",
       " {'domain': '.amazon.in',\n",
       "  'expiry': 1634560158,\n",
       "  'httpOnly': False,\n",
       "  'name': 'visitCount',\n",
       "  'path': '/',\n",
       "  'secure': False,\n",
       "  'value': '1'},\n",
       " {'domain': '.amazon.in',\n",
       "  'expiry': 1663504165,\n",
       "  'httpOnly': False,\n",
       "  'name': 'ubid-acbin',\n",
       "  'path': '/',\n",
       "  'secure': True,\n",
       "  'value': '261-6661119-3917610'},\n",
       " {'domain': '.amazon.in',\n",
       "  'expiry': 1663504165,\n",
       "  'httpOnly': False,\n",
       "  'name': 'session-id',\n",
       "  'path': '/',\n",
       "  'secure': True,\n",
       "  'value': '260-7236748-8299156'},\n",
       " {'domain': '.amazon.in',\n",
       "  'expiry': 1663504165,\n",
       "  'httpOnly': False,\n",
       "  'name': 'lc-acbin',\n",
       "  'path': '/',\n",
       "  'secure': False,\n",
       "  'value': 'en_IN'},\n",
       " {'domain': '.amazon.in',\n",
       "  'expiry': 1663504165,\n",
       "  'httpOnly': False,\n",
       "  'name': 'i18n-prefs',\n",
       "  'path': '/',\n",
       "  'secure': False,\n",
       "  'value': 'INR'}]"
      ]
     },
     "execution_count": 9,
     "metadata": {},
     "output_type": "execute_result"
    }
   ],
   "source": [
    "cookies"
   ]
  },
  {
   "cell_type": "code",
   "execution_count": 10,
   "id": "83472a95",
   "metadata": {},
   "outputs": [
    {
     "data": {
      "text/plain": [
       "9"
      ]
     },
     "execution_count": 10,
     "metadata": {},
     "output_type": "execute_result"
    }
   ],
   "source": [
    "len(cookies)"
   ]
  },
  {
   "cell_type": "markdown",
   "id": "d17109ff",
   "metadata": {},
   "source": [
    "### add new cookie to the browser\n",
    "\n"
   ]
  },
  {
   "cell_type": "code",
   "execution_count": 11,
   "id": "f1ec81b8",
   "metadata": {},
   "outputs": [
    {
     "name": "stdout",
     "output_type": "stream",
     "text": [
      "[{'domain': 'www.amazon.in', 'httpOnly': False, 'name': 'Mycookie', 'path': '/', 'secure': True, 'value': '12345'}, {'domain': '.amazon.in', 'expiry': 1663504165, 'httpOnly': False, 'name': 'session-id-time', 'path': '/', 'secure': False, 'value': '2082758401l'}, {'domain': 'www.amazon.in', 'expiry': 1662208164, 'httpOnly': False, 'name': 'csm-hit', 'path': '/', 'secure': False, 'value': 'tb:YBCYMX0SQDT69V5TPKMC+s-YBCYMX0SQDT69V5TPKMC|1631968164959&t:1631968164959&adb:adblk_no'}, {'domain': '.amazon.in', 'expiry': 1663504165, 'httpOnly': False, 'name': 'session-token', 'path': '/', 'secure': True, 'value': '5V2Dp60ApoibLrVGzPU7ulrbhTyHZMsorR28Dl2wIC2bzG/F5uuRxx+sipc21rm2vqVce0yQVFwD99cgkunQqX/WtV4uwClPZbXVOxZqslsm0jL3+PhwuwfUmjdSFtV582LzQgb0G+El7kQzNGYdw4PQD3C/O3kMtmBNhfZNFTzjtwehr+dPYUKW1uhZZGDXQgbCSXnbR9lBl6dT1hhu9PFWqx/wFx2KvLwwX//vI1/NXYnrgAY7QnLe+V9D9kvA'}, {'domain': '.amazon.in', 'expiry': 1634560158, 'httpOnly': False, 'name': 'visitCount', 'path': '/', 'secure': False, 'value': '1'}, {'domain': '.amazon.in', 'expiry': 1663504165, 'httpOnly': False, 'name': 'ubid-acbin', 'path': '/', 'secure': True, 'value': '261-6661119-3917610'}, {'domain': '.amazon.in', 'expiry': 1663504165, 'httpOnly': False, 'name': 'session-id', 'path': '/', 'secure': True, 'value': '260-7236748-8299156'}, {'domain': '.amazon.in', 'expiry': 1663504165, 'httpOnly': False, 'name': 'lc-acbin', 'path': '/', 'secure': False, 'value': 'en_IN'}, {'domain': '.amazon.in', 'expiry': 1663504165, 'httpOnly': False, 'name': 'i18n-prefs', 'path': '/', 'secure': False, 'value': 'INR'}]\n"
     ]
    },
    {
     "data": {
      "text/plain": [
       "9"
      ]
     },
     "execution_count": 11,
     "metadata": {},
     "output_type": "execute_result"
    }
   ],
   "source": [
    "cookie = {'name':'Mycookie', 'value': '12345'}\n",
    "driver.add_cookie(cookie)\n",
    "\n",
    "\n",
    "cookies = driver.get_cookies()\n",
    "print(cookies)\n",
    "len(cookies)"
   ]
  },
  {
   "cell_type": "markdown",
   "id": "541292ba",
   "metadata": {},
   "source": [
    "### deleting cookies"
   ]
  },
  {
   "cell_type": "code",
   "execution_count": 12,
   "id": "9ebde8b0",
   "metadata": {},
   "outputs": [
    {
     "name": "stdout",
     "output_type": "stream",
     "text": [
      "8\n"
     ]
    }
   ],
   "source": [
    "driver.delete_cookie('Mycookie')\n",
    "\n",
    "cookies = driver.get_cookies()\n",
    "print(len(cookies))"
   ]
  },
  {
   "cell_type": "markdown",
   "id": "0ca5a0f9",
   "metadata": {},
   "source": [
    "### delete all cookies"
   ]
  },
  {
   "cell_type": "code",
   "execution_count": 13,
   "id": "26644b21",
   "metadata": {},
   "outputs": [
    {
     "name": "stdout",
     "output_type": "stream",
     "text": [
      "0\n"
     ]
    }
   ],
   "source": [
    "driver.delete_all_cookies()\n",
    "\n",
    "cookies = driver.get_cookies()\n",
    "print(len(cookies))\n"
   ]
  },
  {
   "cell_type": "code",
   "execution_count": null,
   "id": "faa9f5c9",
   "metadata": {},
   "outputs": [],
   "source": []
  }
 ],
 "metadata": {
  "kernelspec": {
   "display_name": "Python 3",
   "language": "python",
   "name": "python3"
  },
  "language_info": {
   "codemirror_mode": {
    "name": "ipython",
    "version": 3
   },
   "file_extension": ".py",
   "mimetype": "text/x-python",
   "name": "python",
   "nbconvert_exporter": "python",
   "pygments_lexer": "ipython3",
   "version": "3.8.8"
  }
 },
 "nbformat": 4,
 "nbformat_minor": 5
}
