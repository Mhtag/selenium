{
 "cells": [
  {
   "cell_type": "code",
   "execution_count": 1,
   "id": "ac2d72a9",
   "metadata": {},
   "outputs": [],
   "source": [
    "from selenium import webdriver\n",
    "from selenium.webdriver.common.keys import Keys\n",
    "from selenium.webdriver.common.by import By\n",
    "from selenium.webdriver.support.ui import Select\n",
    "from selenium.webdriver import ActionChains\n",
    "chromedriver = \"C:\\SeleniumDrivers\\chromedriver\"\n",
    "driver = webdriver.Chrome(chromedriver)"
   ]
  },
  {
   "cell_type": "code",
   "execution_count": 2,
   "id": "f2892fe7",
   "metadata": {},
   "outputs": [],
   "source": [
    "url = 'http://testautomationpractice.blogspot.com/'"
   ]
  },
  {
   "cell_type": "code",
   "execution_count": 9,
   "id": "7f754019",
   "metadata": {},
   "outputs": [],
   "source": [
    "driver.get(url)"
   ]
  },
  {
   "cell_type": "code",
   "execution_count": 11,
   "id": "38d85cf7",
   "metadata": {},
   "outputs": [
    {
     "name": "stderr",
     "output_type": "stream",
     "text": [
      "<ipython-input-11-6a8190640f1e>:1: DeprecationWarning: use driver.switch_to.frame instead\n",
      "  driver.switch_to_frame(0)\n"
     ]
    }
   ],
   "source": [
    "driver.switch_to_frame(0)"
   ]
  },
  {
   "cell_type": "code",
   "execution_count": 4,
   "id": "b2691c68",
   "metadata": {},
   "outputs": [],
   "source": [
    "driver.maximize_window()"
   ]
  },
  {
   "cell_type": "code",
   "execution_count": 17,
   "id": "032f1add",
   "metadata": {},
   "outputs": [],
   "source": [
    "driver.find_element_by_id('RESULT_FileUpload-10').send_keys('C://Users/cws/Downloads/top10apis.txt')"
   ]
  },
  {
   "cell_type": "code",
   "execution_count": null,
   "id": "cf54977f",
   "metadata": {},
   "outputs": [],
   "source": []
  }
 ],
 "metadata": {
  "kernelspec": {
   "display_name": "Python 3",
   "language": "python",
   "name": "python3"
  },
  "language_info": {
   "codemirror_mode": {
    "name": "ipython",
    "version": 3
   },
   "file_extension": ".py",
   "mimetype": "text/x-python",
   "name": "python",
   "nbconvert_exporter": "python",
   "pygments_lexer": "ipython3",
   "version": "3.8.8"
  }
 },
 "nbformat": 4,
 "nbformat_minor": 5
}
