{
 "cells": [
  {
   "cell_type": "code",
   "execution_count": 1,
   "id": "0be6c7bd",
   "metadata": {},
   "outputs": [],
   "source": [
    "from selenium import webdriver\n",
    "from selenium.webdriver.common.keys import Keys\n",
    "from selenium.webdriver.common.by import By\n",
    "from selenium.webdriver.support.ui import Select\n",
    "from selenium.webdriver import ActionChains"
   ]
  },
  {
   "cell_type": "code",
   "execution_count": 2,
   "id": "535bb5eb",
   "metadata": {},
   "outputs": [],
   "source": [
    "chromedriver = \"C:\\SeleniumDrivers\\chromedriver\"\n",
    "driver = webdriver.Chrome(chromedriver)"
   ]
  },
  {
   "cell_type": "code",
   "execution_count": 3,
   "id": "3601860f",
   "metadata": {},
   "outputs": [],
   "source": [
    "url = 'http://demo.guru99.com/test/newtours/index.php'"
   ]
  },
  {
   "cell_type": "code",
   "execution_count": 4,
   "id": "5b7710bf",
   "metadata": {},
   "outputs": [],
   "source": [
    "driver.get(url)"
   ]
  },
  {
   "cell_type": "code",
   "execution_count": 9,
   "id": "bae1aad1",
   "metadata": {},
   "outputs": [
    {
     "name": "stdout",
     "output_type": "stream",
     "text": [
      "no of links present 53\n"
     ]
    }
   ],
   "source": [
    "links = driver.find_elements(By.TAG_NAME,\"a\")\n",
    "print('no of links present', len(links))"
   ]
  },
  {
   "cell_type": "code",
   "execution_count": 13,
   "id": "2481fedb",
   "metadata": {},
   "outputs": [
    {
     "name": "stdout",
     "output_type": "stream",
     "text": [
      "\n",
      "Demo Site\n",
      "Selenium\n",
      "\n",
      "\n",
      "\n",
      "\n",
      "\n",
      "\n",
      "\n",
      "\n",
      "\n",
      "\n",
      "\n",
      "\n",
      "\n",
      "\n",
      "\n",
      "\n",
      "\n",
      "\n",
      "\n",
      "\n",
      "Insurance Project\n",
      "Agile Project\n",
      "Bank Project\n",
      "Security Project\n",
      "Telecom Project\n",
      "Payment Gateway Project\n",
      "New Tours\n",
      "SEO\n",
      "\n",
      "\n",
      "\n",
      "\n",
      "\n",
      "\n",
      "Home\n",
      "Flights\n",
      "Hotels\n",
      "Car Rentals\n",
      "Cruises\n",
      "Destinations\n",
      "Vacations\n",
      "SIGN-ON\n",
      "REGISTER\n",
      "SUPPORT\n",
      "CONTACT\n",
      "your destination\n",
      "featured vacation destinations\n",
      "Register here\n",
      "Business Travel @ About.com\n",
      "Salon Travel\n"
     ]
    }
   ],
   "source": [
    "for link in links:\n",
    "    print(link.text)"
   ]
  },
  {
   "cell_type": "code",
   "execution_count": 17,
   "id": "5b16069a",
   "metadata": {},
   "outputs": [],
   "source": [
    "# how to click on the link\n",
    "\n",
    "# driver.find_element(By.LINK_TEXT,'REGISTER').click()\n",
    "\n",
    "driver.find_element(By.PARTIAL_LINK_TEXT,'REG').click()"
   ]
  },
  {
   "cell_type": "code",
   "execution_count": null,
   "id": "d1d9eaea",
   "metadata": {},
   "outputs": [],
   "source": []
  }
 ],
 "metadata": {
  "kernelspec": {
   "display_name": "Python 3",
   "language": "python",
   "name": "python3"
  },
  "language_info": {
   "codemirror_mode": {
    "name": "ipython",
    "version": 3
   },
   "file_extension": ".py",
   "mimetype": "text/x-python",
   "name": "python",
   "nbconvert_exporter": "python",
   "pygments_lexer": "ipython3",
   "version": "3.8.8"
  }
 },
 "nbformat": 4,
 "nbformat_minor": 5
}
