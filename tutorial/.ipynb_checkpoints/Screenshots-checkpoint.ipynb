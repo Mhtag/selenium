{
 "cells": [
  {
   "cell_type": "markdown",
   "id": "64ba0924",
   "metadata": {},
   "source": [
    "* save_screenshot('filename')\n",
    "* get_screen_shot_as_file('filename')"
   ]
  },
  {
   "cell_type": "code",
   "execution_count": 2,
   "id": "e8674577",
   "metadata": {},
   "outputs": [],
   "source": [
    "from selenium import webdriver\n",
    "from selenium.webdriver.common.keys import Keys\n",
    "from selenium.webdriver.common.by import By\n",
    "from selenium.webdriver.support.ui import Select\n",
    "from selenium.webdriver import ActionChains\n",
    "chromedriver = \"C:\\SeleniumDrivers\\chromedriver\"\n",
    "driver = webdriver.Chrome(chromedriver)\n",
    "driver.maximize_window()"
   ]
  },
  {
   "cell_type": "code",
   "execution_count": 3,
   "id": "9cbf80ed",
   "metadata": {},
   "outputs": [],
   "source": [
    "url = 'http://demo.automationtesting.in/FileDownload.html'"
   ]
  },
  {
   "cell_type": "code",
   "execution_count": 4,
   "id": "5310857d",
   "metadata": {},
   "outputs": [],
   "source": [
    "driver.get(url)"
   ]
  },
  {
   "cell_type": "code",
   "execution_count": 6,
   "id": "c1a323fa",
   "metadata": {},
   "outputs": [
    {
     "data": {
      "text/plain": [
       "True"
      ]
     },
     "execution_count": 6,
     "metadata": {},
     "output_type": "execute_result"
    }
   ],
   "source": [
    "driver.save_screenshot('C:/Users/cws/Documents/page.png')"
   ]
  },
  {
   "cell_type": "code",
   "execution_count": null,
   "id": "089e3458",
   "metadata": {},
   "outputs": [],
   "source": []
  }
 ],
 "metadata": {
  "kernelspec": {
   "display_name": "Python 3",
   "language": "python",
   "name": "python3"
  },
  "language_info": {
   "codemirror_mode": {
    "name": "ipython",
    "version": 3
   },
   "file_extension": ".py",
   "mimetype": "text/x-python",
   "name": "python",
   "nbconvert_exporter": "python",
   "pygments_lexer": "ipython3",
   "version": "3.8.8"
  }
 },
 "nbformat": 4,
 "nbformat_minor": 5
}
